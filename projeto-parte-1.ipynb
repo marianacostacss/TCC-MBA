{
 "cells": [
  {
   "cell_type": "markdown",
   "id": "ac59f375",
   "metadata": {},
   "source": [
    "## Sobre os dados\n",
    "O estudo será realizado sobre os Microdados de Movimentações do Cadastro Geral de Empregados e Desempregados (CAGED) disponibilizados na plataforma Base dos Dados.\n",
    "Dados CAGED  no BD: https://basedosdados.org/dataset/562b56a3-0b01-4735-a049-eeac5681f056?table=2245875f-d1ef-490d-be29-4f8fb2191335"
   ]
  },
  {
   "cell_type": "code",
   "execution_count": 1,
   "id": "0ed041ed",
   "metadata": {},
   "outputs": [
    {
     "name": "stdout",
     "output_type": "stream",
     "text": [
      "Versão da Linguagem Python Usada Neste Jupyter Notebook: 3.13.1\n"
     ]
    }
   ],
   "source": [
    "# Versão da Linguagem Python\n",
    "from platform import python_version\n",
    "print('Versão da Linguagem Python Usada Neste Jupyter Notebook:', python_version())"
   ]
  },
  {
   "cell_type": "code",
   "execution_count": 2,
   "id": "5d56c7b6-e4cd-4ddd-ae17-5df201a8bc77",
   "metadata": {},
   "outputs": [],
   "source": [
    "#Instalação de pacotes necessários\n",
    "#pip install pandas"
   ]
  },
  {
   "cell_type": "code",
   "execution_count": 3,
   "id": "fcad38b9",
   "metadata": {
    "scrolled": true
   },
   "outputs": [
    {
     "name": "stdout",
     "output_type": "stream",
     "text": [
      "2.2.3\n"
     ]
    }
   ],
   "source": [
    "#importando a biblioteca pandas, que fornece estruturas de dados de alto desempenho e fáceis de usar, além de ferramentas de análise de dados.\n",
    "import pandas as pd\n",
    "print(pd.__version__)"
   ]
  },
  {
   "cell_type": "code",
   "execution_count": 4,
   "id": "fdf6be37",
   "metadata": {},
   "outputs": [],
   "source": [
    "# Importando arquivo original para trabalho\n",
    "dataset_orig = pd.read_csv('dados_iniciais.csv')"
   ]
  },
  {
   "cell_type": "markdown",
   "id": "8b3dcbe0-2972-442d-b43c-6f53de208636",
   "metadata": {},
   "source": [
    "### Conhecendo o Dataset:\n",
    "Conhecendo a composição do dataset e entendendo como os dados estão registrados e distribuídos.\n",
    "Dessa forma, podemos identificar possíveis cenários para reduzir a nossa base de observação, além de identificar pontos de correção e ajustes para os próximos passos."
   ]
  },
  {
   "cell_type": "code",
   "execution_count": 5,
   "id": "5e9f7816",
   "metadata": {},
   "outputs": [
    {
     "data": {
      "text/html": [
       "<div>\n",
       "<style scoped>\n",
       "    .dataframe tbody tr th:only-of-type {\n",
       "        vertical-align: middle;\n",
       "    }\n",
       "\n",
       "    .dataframe tbody tr th {\n",
       "        vertical-align: top;\n",
       "    }\n",
       "\n",
       "    .dataframe thead th {\n",
       "        text-align: right;\n",
       "    }\n",
       "</style>\n",
       "<table border=\"1\" class=\"dataframe\">\n",
       "  <thead>\n",
       "    <tr style=\"text-align: right;\">\n",
       "      <th></th>\n",
       "      <th>cbo_2002</th>\n",
       "      <th>saldo_movimentacao</th>\n",
       "      <th>grau_instrucao</th>\n",
       "      <th>idade</th>\n",
       "      <th>raca_cor</th>\n",
       "      <th>sexo</th>\n",
       "      <th>tipo_movimentacao</th>\n",
       "      <th>salario_mensal</th>\n",
       "      <th>sigla_uf</th>\n",
       "      <th>ano</th>\n",
       "      <th>mes</th>\n",
       "      <th>horas_contratuais</th>\n",
       "    </tr>\n",
       "  </thead>\n",
       "  <tbody>\n",
       "    <tr>\n",
       "      <th>0</th>\n",
       "      <td>212405</td>\n",
       "      <td>1</td>\n",
       "      <td>9</td>\n",
       "      <td>24.0</td>\n",
       "      <td>1</td>\n",
       "      <td>1</td>\n",
       "      <td>10</td>\n",
       "      <td>2800.0</td>\n",
       "      <td>SP</td>\n",
       "      <td>2021</td>\n",
       "      <td>1</td>\n",
       "      <td>40.0</td>\n",
       "    </tr>\n",
       "    <tr>\n",
       "      <th>1</th>\n",
       "      <td>212405</td>\n",
       "      <td>1</td>\n",
       "      <td>8</td>\n",
       "      <td>22.0</td>\n",
       "      <td>1</td>\n",
       "      <td>1</td>\n",
       "      <td>10</td>\n",
       "      <td>4955.0</td>\n",
       "      <td>PR</td>\n",
       "      <td>2020</td>\n",
       "      <td>1</td>\n",
       "      <td>44.0</td>\n",
       "    </tr>\n",
       "    <tr>\n",
       "      <th>2</th>\n",
       "      <td>212420</td>\n",
       "      <td>1</td>\n",
       "      <td>7</td>\n",
       "      <td>22.0</td>\n",
       "      <td>3</td>\n",
       "      <td>1</td>\n",
       "      <td>10</td>\n",
       "      <td>1100.0</td>\n",
       "      <td>MG</td>\n",
       "      <td>2020</td>\n",
       "      <td>1</td>\n",
       "      <td>44.0</td>\n",
       "    </tr>\n",
       "    <tr>\n",
       "      <th>3</th>\n",
       "      <td>212410</td>\n",
       "      <td>1</td>\n",
       "      <td>7</td>\n",
       "      <td>18.0</td>\n",
       "      <td>6</td>\n",
       "      <td>3</td>\n",
       "      <td>10</td>\n",
       "      <td>1057.0</td>\n",
       "      <td>SP</td>\n",
       "      <td>2021</td>\n",
       "      <td>1</td>\n",
       "      <td>36.0</td>\n",
       "    </tr>\n",
       "    <tr>\n",
       "      <th>4</th>\n",
       "      <td>212420</td>\n",
       "      <td>1</td>\n",
       "      <td>9</td>\n",
       "      <td>30.0</td>\n",
       "      <td>1</td>\n",
       "      <td>1</td>\n",
       "      <td>10</td>\n",
       "      <td>5690.0</td>\n",
       "      <td>RS</td>\n",
       "      <td>2021</td>\n",
       "      <td>1</td>\n",
       "      <td>40.0</td>\n",
       "    </tr>\n",
       "  </tbody>\n",
       "</table>\n",
       "</div>"
      ],
      "text/plain": [
       "   cbo_2002  saldo_movimentacao  grau_instrucao  idade  raca_cor  sexo  \\\n",
       "0    212405                   1               9   24.0         1     1   \n",
       "1    212405                   1               8   22.0         1     1   \n",
       "2    212420                   1               7   22.0         3     1   \n",
       "3    212410                   1               7   18.0         6     3   \n",
       "4    212420                   1               9   30.0         1     1   \n",
       "\n",
       "   tipo_movimentacao  salario_mensal sigla_uf   ano  mes  horas_contratuais  \n",
       "0                 10          2800.0       SP  2021    1               40.0  \n",
       "1                 10          4955.0       PR  2020    1               44.0  \n",
       "2                 10          1100.0       MG  2020    1               44.0  \n",
       "3                 10          1057.0       SP  2021    1               36.0  \n",
       "4                 10          5690.0       RS  2021    1               40.0  "
      ]
     },
     "execution_count": 5,
     "metadata": {},
     "output_type": "execute_result"
    }
   ],
   "source": [
    "dataset_orig.head()"
   ]
  },
  {
   "cell_type": "code",
   "execution_count": 15,
   "id": "574d7e94",
   "metadata": {},
   "outputs": [
    {
     "name": "stdout",
     "output_type": "stream",
     "text": [
      "O dataset original tem 990705 linhas.\n"
     ]
    }
   ],
   "source": [
    "print('O dataset original tem', dataset_orig.shape[0],'linhas.')"
   ]
  },
  {
   "cell_type": "code",
   "execution_count": 16,
   "id": "147256f1",
   "metadata": {},
   "outputs": [
    {
     "name": "stdout",
     "output_type": "stream",
     "text": [
      "<class 'pandas.core.frame.DataFrame'>\n",
      "RangeIndex: 990705 entries, 0 to 990704\n",
      "Data columns (total 12 columns):\n",
      " #   Column              Non-Null Count   Dtype  \n",
      "---  ------              --------------   -----  \n",
      " 0   cbo_2002            990705 non-null  int64  \n",
      " 1   saldo_movimentacao  990705 non-null  int64  \n",
      " 2   grau_instrucao      990705 non-null  int64  \n",
      " 3   idade               990688 non-null  float64\n",
      " 4   raca_cor            990705 non-null  int64  \n",
      " 5   sexo                990705 non-null  int64  \n",
      " 6   tipo_movimentacao   990705 non-null  int64  \n",
      " 7   salario_mensal      990654 non-null  float64\n",
      " 8   sigla_uf            990705 non-null  object \n",
      " 9   ano                 990705 non-null  int64  \n",
      " 10  mes                 990705 non-null  int64  \n",
      " 11  horas_contratuais   990705 non-null  float64\n",
      "dtypes: float64(3), int64(8), object(1)\n",
      "memory usage: 90.7+ MB\n"
     ]
    }
   ],
   "source": [
    "dataset_orig.info()"
   ]
  },
  {
   "cell_type": "markdown",
   "id": "0691e618-4d00-440b-a4de-05f080f8dbbf",
   "metadata": {},
   "source": [
    "📝 Observações:\n",
    "\n",
    "1. O valor do atributo cbo_2002 está registrado como inteiro, mas da forma como é representado, deve ser interpretado como string\n",
    "2. O atributo cbo_2002 pode ser classificado para otimizar o processamento\n",
    "3. Os atributos idade e salario_mensal apresentam valores nulos\n",
    "4. Atributos como idade e salario_mensal e horas_contratuais podem ser classificados por faixas"
   ]
  },
  {
   "cell_type": "code",
   "execution_count": 8,
   "id": "99725e62",
   "metadata": {},
   "outputs": [
    {
     "data": {
      "text/html": [
       "<div>\n",
       "<style scoped>\n",
       "    .dataframe tbody tr th:only-of-type {\n",
       "        vertical-align: middle;\n",
       "    }\n",
       "\n",
       "    .dataframe tbody tr th {\n",
       "        vertical-align: top;\n",
       "    }\n",
       "\n",
       "    .dataframe thead th {\n",
       "        text-align: right;\n",
       "    }\n",
       "</style>\n",
       "<table border=\"1\" class=\"dataframe\">\n",
       "  <thead>\n",
       "    <tr style=\"text-align: right;\">\n",
       "      <th></th>\n",
       "      <th>cbo_2002</th>\n",
       "      <th>saldo_movimentacao</th>\n",
       "      <th>grau_instrucao</th>\n",
       "      <th>idade</th>\n",
       "      <th>raca_cor</th>\n",
       "      <th>sexo</th>\n",
       "      <th>tipo_movimentacao</th>\n",
       "      <th>salario_mensal</th>\n",
       "      <th>ano</th>\n",
       "      <th>mes</th>\n",
       "      <th>horas_contratuais</th>\n",
       "    </tr>\n",
       "  </thead>\n",
       "  <tbody>\n",
       "    <tr>\n",
       "      <th>count</th>\n",
       "      <td>990705.000000</td>\n",
       "      <td>990705.000000</td>\n",
       "      <td>990705.000000</td>\n",
       "      <td>990688.000000</td>\n",
       "      <td>990705.000000</td>\n",
       "      <td>990705.000000</td>\n",
       "      <td>990705.000000</td>\n",
       "      <td>9.906540e+05</td>\n",
       "      <td>990705.000000</td>\n",
       "      <td>990705.000000</td>\n",
       "      <td>990705.000000</td>\n",
       "    </tr>\n",
       "    <tr>\n",
       "      <th>mean</th>\n",
       "      <td>212390.844787</td>\n",
       "      <td>0.114511</td>\n",
       "      <td>14.366970</td>\n",
       "      <td>31.923477</td>\n",
       "      <td>2.446621</td>\n",
       "      <td>1.414382</td>\n",
       "      <td>57.735264</td>\n",
       "      <td>5.918462e+03</td>\n",
       "      <td>2021.567789</td>\n",
       "      <td>6.491594</td>\n",
       "      <td>41.472494</td>\n",
       "    </tr>\n",
       "    <tr>\n",
       "      <th>std</th>\n",
       "      <td>942.114691</td>\n",
       "      <td>0.993422</td>\n",
       "      <td>19.766737</td>\n",
       "      <td>8.648844</td>\n",
       "      <td>1.854678</td>\n",
       "      <td>0.810587</td>\n",
       "      <td>32.435120</td>\n",
       "      <td>2.126597e+04</td>\n",
       "      <td>1.043652</td>\n",
       "      <td>3.391225</td>\n",
       "      <td>3.055963</td>\n",
       "    </tr>\n",
       "    <tr>\n",
       "      <th>min</th>\n",
       "      <td>21205.000000</td>\n",
       "      <td>-1.000000</td>\n",
       "      <td>1.000000</td>\n",
       "      <td>15.000000</td>\n",
       "      <td>1.000000</td>\n",
       "      <td>1.000000</td>\n",
       "      <td>10.000000</td>\n",
       "      <td>0.000000e+00</td>\n",
       "      <td>2020.000000</td>\n",
       "      <td>1.000000</td>\n",
       "      <td>0.000000</td>\n",
       "    </tr>\n",
       "    <tr>\n",
       "      <th>25%</th>\n",
       "      <td>212405.000000</td>\n",
       "      <td>-1.000000</td>\n",
       "      <td>8.000000</td>\n",
       "      <td>25.000000</td>\n",
       "      <td>1.000000</td>\n",
       "      <td>1.000000</td>\n",
       "      <td>31.000000</td>\n",
       "      <td>2.500000e+03</td>\n",
       "      <td>2021.000000</td>\n",
       "      <td>4.000000</td>\n",
       "      <td>40.000000</td>\n",
       "    </tr>\n",
       "    <tr>\n",
       "      <th>50%</th>\n",
       "      <td>212405.000000</td>\n",
       "      <td>1.000000</td>\n",
       "      <td>9.000000</td>\n",
       "      <td>30.000000</td>\n",
       "      <td>1.000000</td>\n",
       "      <td>1.000000</td>\n",
       "      <td>40.000000</td>\n",
       "      <td>4.500000e+03</td>\n",
       "      <td>2022.000000</td>\n",
       "      <td>7.000000</td>\n",
       "      <td>40.000000</td>\n",
       "    </tr>\n",
       "    <tr>\n",
       "      <th>75%</th>\n",
       "      <td>212420.000000</td>\n",
       "      <td>1.000000</td>\n",
       "      <td>9.000000</td>\n",
       "      <td>37.000000</td>\n",
       "      <td>3.000000</td>\n",
       "      <td>1.000000</td>\n",
       "      <td>97.000000</td>\n",
       "      <td>8.000000e+03</td>\n",
       "      <td>2022.000000</td>\n",
       "      <td>9.000000</td>\n",
       "      <td>44.000000</td>\n",
       "    </tr>\n",
       "    <tr>\n",
       "      <th>max</th>\n",
       "      <td>212430.000000</td>\n",
       "      <td>1.000000</td>\n",
       "      <td>80.000000</td>\n",
       "      <td>86.000000</td>\n",
       "      <td>6.000000</td>\n",
       "      <td>3.000000</td>\n",
       "      <td>98.000000</td>\n",
       "      <td>1.566110e+07</td>\n",
       "      <td>2023.000000</td>\n",
       "      <td>12.000000</td>\n",
       "      <td>60.000000</td>\n",
       "    </tr>\n",
       "  </tbody>\n",
       "</table>\n",
       "</div>"
      ],
      "text/plain": [
       "            cbo_2002  saldo_movimentacao  grau_instrucao          idade  \\\n",
       "count  990705.000000       990705.000000   990705.000000  990688.000000   \n",
       "mean   212390.844787            0.114511       14.366970      31.923477   \n",
       "std       942.114691            0.993422       19.766737       8.648844   \n",
       "min     21205.000000           -1.000000        1.000000      15.000000   \n",
       "25%    212405.000000           -1.000000        8.000000      25.000000   \n",
       "50%    212405.000000            1.000000        9.000000      30.000000   \n",
       "75%    212420.000000            1.000000        9.000000      37.000000   \n",
       "max    212430.000000            1.000000       80.000000      86.000000   \n",
       "\n",
       "            raca_cor           sexo  tipo_movimentacao  salario_mensal  \\\n",
       "count  990705.000000  990705.000000      990705.000000    9.906540e+05   \n",
       "mean        2.446621       1.414382          57.735264    5.918462e+03   \n",
       "std         1.854678       0.810587          32.435120    2.126597e+04   \n",
       "min         1.000000       1.000000          10.000000    0.000000e+00   \n",
       "25%         1.000000       1.000000          31.000000    2.500000e+03   \n",
       "50%         1.000000       1.000000          40.000000    4.500000e+03   \n",
       "75%         3.000000       1.000000          97.000000    8.000000e+03   \n",
       "max         6.000000       3.000000          98.000000    1.566110e+07   \n",
       "\n",
       "                 ano            mes  horas_contratuais  \n",
       "count  990705.000000  990705.000000      990705.000000  \n",
       "mean     2021.567789       6.491594          41.472494  \n",
       "std         1.043652       3.391225           3.055963  \n",
       "min      2020.000000       1.000000           0.000000  \n",
       "25%      2021.000000       4.000000          40.000000  \n",
       "50%      2022.000000       7.000000          40.000000  \n",
       "75%      2022.000000       9.000000          44.000000  \n",
       "max      2023.000000      12.000000          60.000000  "
      ]
     },
     "execution_count": 8,
     "metadata": {},
     "output_type": "execute_result"
    }
   ],
   "source": [
    "dataset_orig.describe()"
   ]
  },
  {
   "cell_type": "code",
   "execution_count": 9,
   "id": "f504f02c",
   "metadata": {},
   "outputs": [
    {
     "data": {
      "text/plain": [
       "cbo_2002                  15\n",
       "saldo_movimentacao         2\n",
       "grau_instrucao            12\n",
       "idade                     69\n",
       "raca_cor                   6\n",
       "sexo                       2\n",
       "tipo_movimentacao         13\n",
       "salario_mensal        198005\n",
       "sigla_uf                  27\n",
       "ano                        4\n",
       "mes                       12\n",
       "horas_contratuais        847\n",
       "dtype: int64"
      ]
     },
     "execution_count": 9,
     "metadata": {},
     "output_type": "execute_result"
    }
   ],
   "source": [
    "dataset_orig.nunique()"
   ]
  },
  {
   "cell_type": "code",
   "execution_count": 12,
   "id": "24ec3f4f",
   "metadata": {},
   "outputs": [
    {
     "data": {
      "text/plain": [
       "ano\n",
       "2021    293391\n",
       "2022    279334\n",
       "2023    233719\n",
       "2020    184261\n",
       "Name: count, dtype: int64"
      ]
     },
     "execution_count": 12,
     "metadata": {},
     "output_type": "execute_result"
    }
   ],
   "source": [
    "ctg = dataset_orig['ano'].value_counts()\n",
    "ctg"
   ]
  },
  {
   "cell_type": "markdown",
   "id": "53ddddb1",
   "metadata": {},
   "source": [
    "### Exploração e Transformação da Base:\n",
    "1) unificar as colunas ano e mês em uma única coluna no formato mm-aa"
   ]
  },
  {
   "cell_type": "code",
   "execution_count": null,
   "id": "4a86a512",
   "metadata": {},
   "outputs": [],
   "source": [
    "# vendo quais são os valores da coluna mes\n",
    "valores_unicos = dataset_orig['mes'].unique()\n",
    "print(valores_unicos)"
   ]
  },
  {
   "cell_type": "code",
   "execution_count": null,
   "id": "2d4612d5",
   "metadata": {},
   "outputs": [],
   "source": [
    "#quais são os valores da coluna ano\n",
    "valores_unicos = dataset_orig['ano'].unique()\n",
    "print(valores_unicos)"
   ]
  },
  {
   "cell_type": "code",
   "execution_count": null,
   "id": "5dd51df4",
   "metadata": {},
   "outputs": [],
   "source": [
    "# Unindo os valores das duas colunas no formato aa-mm, porém ainda como string\n",
    "dados['data'] = dados['mes'].astype(str).str.zfill(2) + '-' + dados['ano'].astype(str)\n",
    "\n",
    "valores_unicos = dados['data'].unique()\n",
    "print(valores_unicos)"
   ]
  },
  {
   "cell_type": "code",
   "execution_count": null,
   "id": "1fb0938e",
   "metadata": {},
   "outputs": [],
   "source": [
    "dados.head()"
   ]
  },
  {
   "cell_type": "markdown",
   "id": "19f4967d",
   "metadata": {},
   "source": [
    "2) Remover colunas que não são relevantes na análise"
   ]
  },
  {
   "cell_type": "code",
   "execution_count": null,
   "id": "8e8b2abd",
   "metadata": {},
   "outputs": [],
   "source": [
    "#deixei a coluna ano apenas com os últimos dois dígitos\n",
    "dados['ano'] = dados['ano'].astype(str).str[-2:]\n",
    "\n",
    "valores_unicos = dados['ano'].unique()\n",
    "print(valores_unicos)"
   ]
  },
  {
   "cell_type": "code",
   "execution_count": null,
   "id": "ea993005",
   "metadata": {},
   "outputs": [],
   "source": [
    "# Remover a coluna ano e mes\n",
    "dados = dados.drop('ano', axis=1)\n",
    "dados = dados.drop('mes', axis=1)"
   ]
  },
  {
   "cell_type": "code",
   "execution_count": null,
   "id": "dfff4505",
   "metadata": {},
   "outputs": [],
   "source": [
    "dados.head()"
   ]
  },
  {
   "cell_type": "code",
   "execution_count": null,
   "id": "25bd53c6",
   "metadata": {},
   "outputs": [],
   "source": [
    "# Remover as colunas 'coluna2' e 'coluna4' diretamente no DataFrame original\n",
    "dados.drop(['id_municipio', 'cnae_2_subclasse', 'origem_informacao', 'indicador_fora_prazo'], axis=1, inplace=True)"
   ]
  },
  {
   "cell_type": "code",
   "execution_count": null,
   "id": "5c1a9adb",
   "metadata": {},
   "outputs": [],
   "source": [
    "dados.head()"
   ]
  },
  {
   "cell_type": "markdown",
   "id": "3fcf47cd",
   "metadata": {},
   "source": [
    "3) Analisar coluna cbo_2002:"
   ]
  },
  {
   "cell_type": "code",
   "execution_count": null,
   "id": "29ab3e25",
   "metadata": {},
   "outputs": [],
   "source": [
    "#Reduzir o grau de detalhamento aos quatro primeiros dígitos\n",
    "dados['cbo_2002'] = dados['cbo_2002'].astype(str).str[:4]"
   ]
  },
  {
   "cell_type": "code",
   "execution_count": null,
   "id": "81abc802",
   "metadata": {},
   "outputs": [],
   "source": [
    "dados['cbo_2002'] = dados['cbo_2002'].astype('Int64')"
   ]
  },
  {
   "cell_type": "code",
   "execution_count": null,
   "id": "227de5c5",
   "metadata": {},
   "outputs": [],
   "source": [
    "print(dados['cbo_2002'].dtype)"
   ]
  },
  {
   "cell_type": "code",
   "execution_count": null,
   "id": "cee31068",
   "metadata": {},
   "outputs": [],
   "source": [
    "valores_unicos = dados['cbo_2002'].unique()\n",
    "print(valores_unicos)"
   ]
  },
  {
   "cell_type": "code",
   "execution_count": null,
   "id": "6b85b0bc",
   "metadata": {},
   "outputs": [],
   "source": [
    "#os valores 2121 e 2120 não são correspondentes a este atributo, pois não há categorias relacionadas e podem ser registros errados.\n",
    "dados_cbo2002 = dados[(dados['cbo_2002'] == 2121) | (dados['cbo_2002'] == 2120)]\n",
    "dados_cbo2002"
   ]
  },
  {
   "cell_type": "code",
   "execution_count": null,
   "id": "77b9e21f",
   "metadata": {},
   "outputs": [],
   "source": [
    "dados = dados.drop(dados_cbo2002.index)"
   ]
  },
  {
   "cell_type": "markdown",
   "id": "8c2c84a6",
   "metadata": {},
   "source": [
    "4) Analisando a coluna categoria:"
   ]
  },
  {
   "cell_type": "code",
   "execution_count": null,
   "id": "878a71ee",
   "metadata": {},
   "outputs": [],
   "source": [
    "valores_unicos = dados['categoria'].unique()\n",
    "print(valores_unicos)"
   ]
  },
  {
   "cell_type": "code",
   "execution_count": null,
   "id": "3d067f71",
   "metadata": {},
   "outputs": [],
   "source": [
    "dados_categoria = dados[dados['categoria'] == 102]\n",
    "dados_categoria"
   ]
  },
  {
   "cell_type": "code",
   "execution_count": null,
   "id": "d2489839",
   "metadata": {},
   "outputs": [],
   "source": [
    "# Escolhi remover o registro retornado pela categoria 102, pois representa uma inconsistência\n",
    "dados.drop(dados[dados['categoria'] == 102].index, inplace=True)"
   ]
  },
  {
   "cell_type": "code",
   "execution_count": null,
   "id": "2199b2d3",
   "metadata": {},
   "outputs": [],
   "source": [
    "dados"
   ]
  },
  {
   "cell_type": "code",
   "execution_count": null,
   "id": "7113e857",
   "metadata": {},
   "outputs": [],
   "source": [
    "dados_categoria = dados[dados['categoria'] == 999]\n",
    "dados_categoria"
   ]
  },
  {
   "cell_type": "code",
   "execution_count": null,
   "id": "f73ed0e5",
   "metadata": {},
   "outputs": [],
   "source": [
    "dados_categoria = dados[dados['categoria'] == 101]\n",
    "dados_categoria"
   ]
  },
  {
   "cell_type": "code",
   "execution_count": null,
   "id": "4e992966",
   "metadata": {},
   "outputs": [],
   "source": [
    "dados_categoria_102 = dados[dados['categoria'] == 103]\n",
    "dados_categoria_102"
   ]
  },
  {
   "cell_type": "code",
   "execution_count": null,
   "id": "b0b20cd6",
   "metadata": {},
   "outputs": [],
   "source": []
  },
  {
   "cell_type": "code",
   "execution_count": null,
   "id": "053ca1d5",
   "metadata": {},
   "outputs": [],
   "source": []
  }
 ],
 "metadata": {
  "kernelspec": {
   "display_name": "Python 3 (ipykernel)",
   "language": "python",
   "name": "python3"
  },
  "language_info": {
   "codemirror_mode": {
    "name": "ipython",
    "version": 3
   },
   "file_extension": ".py",
   "mimetype": "text/x-python",
   "name": "python",
   "nbconvert_exporter": "python",
   "pygments_lexer": "ipython3",
   "version": "3.13.1"
  }
 },
 "nbformat": 4,
 "nbformat_minor": 5
}
