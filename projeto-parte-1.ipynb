{
 "cells": [
  {
   "cell_type": "markdown",
   "id": "ac59f375",
   "metadata": {},
   "source": [
    "## Sobre os dados\n",
    "O estudo será realizado sobre os Microdados de Movimentações do Cadastro Geral de Empregados e Desempregados (CAGED) disponibilizados na plataforma Base dos Dados.\n",
    "Dados CAGED  no BD: https://basedosdados.org/dataset/562b56a3-0b01-4735-a049-eeac5681f056?table=2245875f-d1ef-490d-be29-4f8fb2191335"
   ]
  },
  {
   "cell_type": "code",
   "execution_count": 1,
   "id": "0ed041ed",
   "metadata": {},
   "outputs": [
    {
     "name": "stdout",
     "output_type": "stream",
     "text": [
      "Versão da Linguagem Python Usada Neste Jupyter Notebook: 3.13.1\n"
     ]
    }
   ],
   "source": [
    "# Versão da Linguagem Python\n",
    "from platform import python_version\n",
    "print('Versão da Linguagem Python Usada Neste Jupyter Notebook:', python_version())"
   ]
  },
  {
   "cell_type": "code",
   "execution_count": 2,
   "id": "d54d7274-91c3-44a0-bb66-050aebea4523",
   "metadata": {},
   "outputs": [],
   "source": [
    "#Instalação de pacotes necessários\n",
    "#!pip install pandas\n",
    "#!pip install matplotlib\n",
    "#!pip install seaborn"
   ]
  },
  {
   "cell_type": "code",
   "execution_count": 3,
   "id": "fcad38b9",
   "metadata": {
    "scrolled": true
   },
   "outputs": [
    {
     "name": "stdout",
     "output_type": "stream",
     "text": [
      "2.2.3\n"
     ]
    }
   ],
   "source": [
    "#importando a biblioteca pandas, que fornece estruturas de dados de alto desempenho e fáceis de usar, além de ferramentas de análise de dados.\n",
    "import pandas as pd\n",
    "print(pd.__version__)"
   ]
  },
  {
   "cell_type": "code",
   "execution_count": 4,
   "id": "4af81d40-cac4-4375-8b58-18b2a50c0108",
   "metadata": {},
   "outputs": [],
   "source": [
    "import matplotlib.pyplot as plt\n",
    "import seaborn as sns"
   ]
  },
  {
   "cell_type": "code",
   "execution_count": 5,
   "id": "fdf6be37",
   "metadata": {},
   "outputs": [],
   "source": [
    "# Importando arquivo original para trabalho\n",
    "dataset_orig = pd.read_csv('dados_iniciais.csv')"
   ]
  },
  {
   "cell_type": "markdown",
   "id": "8b3dcbe0-2972-442d-b43c-6f53de208636",
   "metadata": {},
   "source": [
    "### Conhecendo o Dataset:\n",
    "Conhecendo a composição do dataset e entendendo como os dados estão registrados e distribuídos.\n",
    "Dessa forma, podemos identificar possíveis cenários para reduzir a nossa base de observação, além de identificar pontos de correção e ajustes para os próximos passos."
   ]
  },
  {
   "cell_type": "code",
   "execution_count": 6,
   "id": "5e9f7816",
   "metadata": {},
   "outputs": [
    {
     "data": {
      "text/html": [
       "<div>\n",
       "<style scoped>\n",
       "    .dataframe tbody tr th:only-of-type {\n",
       "        vertical-align: middle;\n",
       "    }\n",
       "\n",
       "    .dataframe tbody tr th {\n",
       "        vertical-align: top;\n",
       "    }\n",
       "\n",
       "    .dataframe thead th {\n",
       "        text-align: right;\n",
       "    }\n",
       "</style>\n",
       "<table border=\"1\" class=\"dataframe\">\n",
       "  <thead>\n",
       "    <tr style=\"text-align: right;\">\n",
       "      <th></th>\n",
       "      <th>cbo_2002</th>\n",
       "      <th>saldo_movimentacao</th>\n",
       "      <th>grau_instrucao</th>\n",
       "      <th>idade</th>\n",
       "      <th>raca_cor</th>\n",
       "      <th>sexo</th>\n",
       "      <th>tipo_movimentacao</th>\n",
       "      <th>salario_mensal</th>\n",
       "      <th>sigla_uf</th>\n",
       "      <th>ano</th>\n",
       "      <th>mes</th>\n",
       "      <th>horas_contratuais</th>\n",
       "    </tr>\n",
       "  </thead>\n",
       "  <tbody>\n",
       "    <tr>\n",
       "      <th>0</th>\n",
       "      <td>212405</td>\n",
       "      <td>1</td>\n",
       "      <td>9</td>\n",
       "      <td>24.0</td>\n",
       "      <td>1</td>\n",
       "      <td>1</td>\n",
       "      <td>10</td>\n",
       "      <td>2800.0</td>\n",
       "      <td>SP</td>\n",
       "      <td>2021</td>\n",
       "      <td>1</td>\n",
       "      <td>40.0</td>\n",
       "    </tr>\n",
       "    <tr>\n",
       "      <th>1</th>\n",
       "      <td>212405</td>\n",
       "      <td>1</td>\n",
       "      <td>8</td>\n",
       "      <td>22.0</td>\n",
       "      <td>1</td>\n",
       "      <td>1</td>\n",
       "      <td>10</td>\n",
       "      <td>4955.0</td>\n",
       "      <td>PR</td>\n",
       "      <td>2020</td>\n",
       "      <td>1</td>\n",
       "      <td>44.0</td>\n",
       "    </tr>\n",
       "    <tr>\n",
       "      <th>2</th>\n",
       "      <td>212420</td>\n",
       "      <td>1</td>\n",
       "      <td>7</td>\n",
       "      <td>22.0</td>\n",
       "      <td>3</td>\n",
       "      <td>1</td>\n",
       "      <td>10</td>\n",
       "      <td>1100.0</td>\n",
       "      <td>MG</td>\n",
       "      <td>2020</td>\n",
       "      <td>1</td>\n",
       "      <td>44.0</td>\n",
       "    </tr>\n",
       "    <tr>\n",
       "      <th>3</th>\n",
       "      <td>212410</td>\n",
       "      <td>1</td>\n",
       "      <td>7</td>\n",
       "      <td>18.0</td>\n",
       "      <td>6</td>\n",
       "      <td>3</td>\n",
       "      <td>10</td>\n",
       "      <td>1057.0</td>\n",
       "      <td>SP</td>\n",
       "      <td>2021</td>\n",
       "      <td>1</td>\n",
       "      <td>36.0</td>\n",
       "    </tr>\n",
       "    <tr>\n",
       "      <th>4</th>\n",
       "      <td>212420</td>\n",
       "      <td>1</td>\n",
       "      <td>9</td>\n",
       "      <td>30.0</td>\n",
       "      <td>1</td>\n",
       "      <td>1</td>\n",
       "      <td>10</td>\n",
       "      <td>5690.0</td>\n",
       "      <td>RS</td>\n",
       "      <td>2021</td>\n",
       "      <td>1</td>\n",
       "      <td>40.0</td>\n",
       "    </tr>\n",
       "  </tbody>\n",
       "</table>\n",
       "</div>"
      ],
      "text/plain": [
       "   cbo_2002  saldo_movimentacao  grau_instrucao  idade  raca_cor  sexo  \\\n",
       "0    212405                   1               9   24.0         1     1   \n",
       "1    212405                   1               8   22.0         1     1   \n",
       "2    212420                   1               7   22.0         3     1   \n",
       "3    212410                   1               7   18.0         6     3   \n",
       "4    212420                   1               9   30.0         1     1   \n",
       "\n",
       "   tipo_movimentacao  salario_mensal sigla_uf   ano  mes  horas_contratuais  \n",
       "0                 10          2800.0       SP  2021    1               40.0  \n",
       "1                 10          4955.0       PR  2020    1               44.0  \n",
       "2                 10          1100.0       MG  2020    1               44.0  \n",
       "3                 10          1057.0       SP  2021    1               36.0  \n",
       "4                 10          5690.0       RS  2021    1               40.0  "
      ]
     },
     "execution_count": 6,
     "metadata": {},
     "output_type": "execute_result"
    }
   ],
   "source": [
    "dataset_orig.head()"
   ]
  },
  {
   "cell_type": "code",
   "execution_count": 7,
   "id": "574d7e94",
   "metadata": {},
   "outputs": [
    {
     "name": "stdout",
     "output_type": "stream",
     "text": [
      "O dataset original tem 990705 linhas.\n"
     ]
    }
   ],
   "source": [
    "print('O dataset original tem', dataset_orig.shape[0],'linhas.')"
   ]
  },
  {
   "cell_type": "code",
   "execution_count": 8,
   "id": "147256f1",
   "metadata": {},
   "outputs": [
    {
     "name": "stdout",
     "output_type": "stream",
     "text": [
      "<class 'pandas.core.frame.DataFrame'>\n",
      "RangeIndex: 990705 entries, 0 to 990704\n",
      "Data columns (total 12 columns):\n",
      " #   Column              Non-Null Count   Dtype  \n",
      "---  ------              --------------   -----  \n",
      " 0   cbo_2002            990705 non-null  int64  \n",
      " 1   saldo_movimentacao  990705 non-null  int64  \n",
      " 2   grau_instrucao      990705 non-null  int64  \n",
      " 3   idade               990688 non-null  float64\n",
      " 4   raca_cor            990705 non-null  int64  \n",
      " 5   sexo                990705 non-null  int64  \n",
      " 6   tipo_movimentacao   990705 non-null  int64  \n",
      " 7   salario_mensal      990654 non-null  float64\n",
      " 8   sigla_uf            990705 non-null  object \n",
      " 9   ano                 990705 non-null  int64  \n",
      " 10  mes                 990705 non-null  int64  \n",
      " 11  horas_contratuais   990705 non-null  float64\n",
      "dtypes: float64(3), int64(8), object(1)\n",
      "memory usage: 90.7+ MB\n"
     ]
    }
   ],
   "source": [
    "dataset_orig.info()"
   ]
  },
  {
   "cell_type": "markdown",
   "id": "0691e618-4d00-440b-a4de-05f080f8dbbf",
   "metadata": {},
   "source": [
    "📝 Observações:\n",
    "\n",
    "1. O valor do atributo cbo_2002 está registrado como inteiro, mas da forma como é representado, deve ser interpretado como string\n",
    "2. O atributo cbo_2002 pode ser classificado para otimizar o processamento\n",
    "3. Os atributos idade e salario_mensal apresentam valores nulos\n",
    "4. Atributos como idade e salario_mensal e horas_contratuais podem ser classificados por faixas"
   ]
  },
  {
   "cell_type": "code",
   "execution_count": 9,
   "id": "f504f02c",
   "metadata": {},
   "outputs": [
    {
     "data": {
      "text/plain": [
       "cbo_2002                  15\n",
       "saldo_movimentacao         2\n",
       "grau_instrucao            12\n",
       "idade                     69\n",
       "raca_cor                   6\n",
       "sexo                       2\n",
       "tipo_movimentacao         13\n",
       "salario_mensal        198005\n",
       "sigla_uf                  27\n",
       "ano                        4\n",
       "mes                       12\n",
       "horas_contratuais        847\n",
       "dtype: int64"
      ]
     },
     "execution_count": 9,
     "metadata": {},
     "output_type": "execute_result"
    }
   ],
   "source": [
    "dataset_orig.nunique()"
   ]
  },
  {
   "cell_type": "markdown",
   "id": "53ddddb1",
   "metadata": {},
   "source": [
    "## Análise e tratamento dos atributos"
   ]
  },
  {
   "cell_type": "markdown",
   "id": "a4b236a8-a298-4987-82e5-80405c4c1d42",
   "metadata": {},
   "source": [
    "### cbo_2002"
   ]
  },
  {
   "cell_type": "code",
   "execution_count": 10,
   "id": "5cd0ec56-8792-4e0c-a961-55f88d9a174b",
   "metadata": {},
   "outputs": [
    {
     "data": {
      "text/plain": [
       "dtype('int64')"
      ]
     },
     "execution_count": 10,
     "metadata": {},
     "output_type": "execute_result"
    }
   ],
   "source": [
    "#Verificação inicial do tipo do valor\n",
    "dataset_orig['cbo_2002'].dtypes"
   ]
  },
  {
   "cell_type": "code",
   "execution_count": 11,
   "id": "fd311950-bfef-4522-b141-69ac97a7e14b",
   "metadata": {},
   "outputs": [],
   "source": [
    "# Alterar a coluna 'cbo_2002' para o tipo string\n",
    "dataset_orig['cbo_2002'] = dataset_orig['cbo_2002'].astype(str)"
   ]
  },
  {
   "cell_type": "code",
   "execution_count": 12,
   "id": "9e0dc876-88bd-44cd-b3af-d4bbffbe8a45",
   "metadata": {},
   "outputs": [
    {
     "name": "stdout",
     "output_type": "stream",
     "text": [
      "object\n"
     ]
    }
   ],
   "source": [
    "print(dataset_orig['cbo_2002'].dtypes)"
   ]
  },
  {
   "cell_type": "code",
   "execution_count": 13,
   "id": "b3be034b-09ee-4d78-a378-e8af515c114c",
   "metadata": {},
   "outputs": [
    {
     "data": {
      "image/png": "[encoded data removed]",
      "text/plain": [
       "<Figure size 1200x600 with 1 Axes>"
      ]
     },
     "metadata": {},
     "output_type": "display_data"
    }
   ],
   "source": [
    "# Contagem dos valores\n",
    "cbo_counts = dataset_orig['cbo_2002'].value_counts()\n",
    "\n",
    "# Criar o gráfico de barras para análise de distribuição\n",
    "plt.figure(figsize=(12, 6))\n",
    "cbo_counts.plot(kind='bar')\n",
    "plt.title('Distribuição do atributo cbo_2002', fontsize=14)\n",
    "plt.xlabel('CBO 2002', fontsize=12)\n",
    "plt.ylabel('Frequência', fontsize=12)\n",
    "plt.xticks(rotation=45)\n",
    "plt.grid(axis='y', linestyle='--', alpha=0.7)\n",
    "plt.tight_layout()\n",
    "\n",
    "# Mostrar o gráfico\n",
    "plt.show()"
   ]
  },
  {
   "cell_type": "code",
   "execution_count": 14,
   "id": "0a041366-06a5-4a92-afa0-a7bee1fdeec8",
   "metadata": {},
   "outputs": [
    {
     "name": "stdout",
     "output_type": "stream",
     "text": [
      "cbo_2002\n",
      "212405    515022\n",
      "212420    243146\n",
      "212410     89476\n",
      "212415     21800\n",
      "212320     20854\n",
      "212315     18889\n",
      "212215     18439\n",
      "212205     18288\n",
      "212305     16563\n",
      "212310     12971\n",
      "212430      8654\n",
      "212425      3913\n",
      "212210      2666\n",
      "21205         23\n",
      "21210          1\n",
      "Name: count, dtype: int64\n"
     ]
    }
   ],
   "source": [
    "print(cbo_counts)"
   ]
  },
  {
   "cell_type": "markdown",
   "id": "3e88ec26-2fe2-4cca-9b66-9f609bdf2583",
   "metadata": {},
   "source": [
    "📝 Observações:\n",
    "\n",
    "Códigos válidos são iniciados com os seguintes números:\n",
    "\n",
    "2122 - Engenheiros da computação\n",
    "\n",
    "2123 - Administradores de Tecnologia da Informação\n",
    "\n",
    "2124 - Analistas de Tecnologia da Informação\n",
    "\n",
    "\n",
    "\n",
    "Sendo assim, os valores que começam com uma sequência diferente das listadas acima não deveriam compor o nosso dataset."
   ]
  },
  {
   "cell_type": "code",
   "execution_count": 15,
   "id": "3a02c868-b393-40b4-91e4-959708e523bc",
   "metadata": {},
   "outputs": [],
   "source": [
    "#Removendo os registros inválidos através de uma máscara\n",
    "\n",
    "mask = dataset_orig['cbo_2002'].str.startswith(('2122', '2123', '2124'))"
   ]
  },
  {
   "cell_type": "code",
   "execution_count": 16,
   "id": "76452361-7be9-4f41-ab97-baefba059f3d",
   "metadata": {},
   "outputs": [],
   "source": [
    "#atribuindo o resultado filtrado pela máscara a uma variável (dataset revisado)\n",
    "\n",
    "dataset_revisado = dataset_orig[mask]"
   ]
  },
  {
   "cell_type": "code",
   "execution_count": 17,
   "id": "c670af2d-6524-4a91-b127-e930d04045dd",
   "metadata": {},
   "outputs": [
    {
     "data": {
      "text/plain": [
       "cbo_2002\n",
       "212405    515022\n",
       "212420    243146\n",
       "212410     89476\n",
       "212415     21800\n",
       "212320     20854\n",
       "212315     18889\n",
       "212215     18439\n",
       "212205     18288\n",
       "212305     16563\n",
       "212310     12971\n",
       "212430      8654\n",
       "212425      3913\n",
       "212210      2666\n",
       "Name: count, dtype: int64"
      ]
     },
     "execution_count": 17,
     "metadata": {},
     "output_type": "execute_result"
    }
   ],
   "source": [
    "dataset_revisado['cbo_2002'].value_counts()"
   ]
  },
  {
   "cell_type": "code",
   "execution_count": 18,
   "id": "bf72ecb4-2755-4b48-952a-dc62cd78d01f",
   "metadata": {},
   "outputs": [
    {
     "name": "stdout",
     "output_type": "stream",
     "text": [
      "39393  - Engenheiros da computação\n",
      "69277  - Administradores de Tecnologia da Informação\n",
      "882011  - Analistas de Tecnologia da Informação\n"
     ]
    }
   ],
   "source": [
    "cat2122 = dataset_revisado['cbo_2002'].str.startswith('2122').sum()\n",
    "cat2123 = dataset_revisado['cbo_2002'].str.startswith('2123').sum()\n",
    "cat2124 = dataset_revisado['cbo_2002'].str.startswith('2124').sum()\n",
    "\n",
    "print(cat2122, \" - Engenheiros da computação\")\n",
    "print(cat2123, \" - Administradores de Tecnologia da Informação\")\n",
    "print(cat2124, \" - Analistas de Tecnologia da Informação\")"
   ]
  },
  {
   "cell_type": "code",
   "execution_count": 19,
   "id": "0aa648fc-53fe-4190-9802-63b4c4fcb798",
   "metadata": {},
   "outputs": [
    {
     "data": {
      "text/plain": [
       "Text(0.5, 1.0, 'Movimentação por categoria')"
      ]
     },
     "execution_count": 19,
     "metadata": {},
     "output_type": "execute_result"
    },
    {
     "data": {
      "image/png": "[encoded data removed]",
      "text/plain": [
       "<Figure size 640x480 with 1 Axes>"
      ]
     },
     "metadata": {},
     "output_type": "display_data"
    }
   ],
   "source": [
    "#Visualização do número de movimentação por categoria\n",
    "\n",
    "categorias = ['Cat-2122', 'Cat-2123', 'Cat-2124']\n",
    "dados = [cat2122, cat2123, cat2124]\n",
    "\n",
    "plt.bar(categorias,dados)\n",
    "plt.title('Movimentação por categoria')"
   ]
  },
  {
   "cell_type": "markdown",
   "id": "9664b69f-0e52-4aaa-b244-960aed066629",
   "metadata": {},
   "source": [
    "Compreendendo que o desbalanceamento entre as categorias é significamente grande, havendo predominância de uma, e que este nível de granularidade pode impactar as análises e modelos, optei por desconsiderar este atributo, compreendendo todas as movimentações correspondentes a um único grupo profissional (profissionais de tecnologia)."
   ]
  },
  {
   "cell_type": "code",
   "execution_count": 20,
   "id": "53fb1fa7-a2d6-4956-a3c1-6913e6cd6d48",
   "metadata": {},
   "outputs": [
    {
     "data": {
      "text/html": [
       "<div>\n",
       "<style scoped>\n",
       "    .dataframe tbody tr th:only-of-type {\n",
       "        vertical-align: middle;\n",
       "    }\n",
       "\n",
       "    .dataframe tbody tr th {\n",
       "        vertical-align: top;\n",
       "    }\n",
       "\n",
       "    .dataframe thead th {\n",
       "        text-align: right;\n",
       "    }\n",
       "</style>\n",
       "<table border=\"1\" class=\"dataframe\">\n",
       "  <thead>\n",
       "    <tr style=\"text-align: right;\">\n",
       "      <th></th>\n",
       "      <th>saldo_movimentacao</th>\n",
       "      <th>grau_instrucao</th>\n",
       "      <th>idade</th>\n",
       "      <th>raca_cor</th>\n",
       "      <th>sexo</th>\n",
       "      <th>tipo_movimentacao</th>\n",
       "      <th>salario_mensal</th>\n",
       "      <th>sigla_uf</th>\n",
       "      <th>ano</th>\n",
       "      <th>mes</th>\n",
       "      <th>horas_contratuais</th>\n",
       "    </tr>\n",
       "  </thead>\n",
       "  <tbody>\n",
       "    <tr>\n",
       "      <th>0</th>\n",
       "      <td>1</td>\n",
       "      <td>9</td>\n",
       "      <td>24.0</td>\n",
       "      <td>1</td>\n",
       "      <td>1</td>\n",
       "      <td>10</td>\n",
       "      <td>2800.0</td>\n",
       "      <td>SP</td>\n",
       "      <td>2021</td>\n",
       "      <td>1</td>\n",
       "      <td>40.0</td>\n",
       "    </tr>\n",
       "    <tr>\n",
       "      <th>1</th>\n",
       "      <td>1</td>\n",
       "      <td>8</td>\n",
       "      <td>22.0</td>\n",
       "      <td>1</td>\n",
       "      <td>1</td>\n",
       "      <td>10</td>\n",
       "      <td>4955.0</td>\n",
       "      <td>PR</td>\n",
       "      <td>2020</td>\n",
       "      <td>1</td>\n",
       "      <td>44.0</td>\n",
       "    </tr>\n",
       "    <tr>\n",
       "      <th>2</th>\n",
       "      <td>1</td>\n",
       "      <td>7</td>\n",
       "      <td>22.0</td>\n",
       "      <td>3</td>\n",
       "      <td>1</td>\n",
       "      <td>10</td>\n",
       "      <td>1100.0</td>\n",
       "      <td>MG</td>\n",
       "      <td>2020</td>\n",
       "      <td>1</td>\n",
       "      <td>44.0</td>\n",
       "    </tr>\n",
       "    <tr>\n",
       "      <th>3</th>\n",
       "      <td>1</td>\n",
       "      <td>7</td>\n",
       "      <td>18.0</td>\n",
       "      <td>6</td>\n",
       "      <td>3</td>\n",
       "      <td>10</td>\n",
       "      <td>1057.0</td>\n",
       "      <td>SP</td>\n",
       "      <td>2021</td>\n",
       "      <td>1</td>\n",
       "      <td>36.0</td>\n",
       "    </tr>\n",
       "    <tr>\n",
       "      <th>4</th>\n",
       "      <td>1</td>\n",
       "      <td>9</td>\n",
       "      <td>30.0</td>\n",
       "      <td>1</td>\n",
       "      <td>1</td>\n",
       "      <td>10</td>\n",
       "      <td>5690.0</td>\n",
       "      <td>RS</td>\n",
       "      <td>2021</td>\n",
       "      <td>1</td>\n",
       "      <td>40.0</td>\n",
       "    </tr>\n",
       "  </tbody>\n",
       "</table>\n",
       "</div>"
      ],
      "text/plain": [
       "   saldo_movimentacao  grau_instrucao  idade  raca_cor  sexo  \\\n",
       "0                   1               9   24.0         1     1   \n",
       "1                   1               8   22.0         1     1   \n",
       "2                   1               7   22.0         3     1   \n",
       "3                   1               7   18.0         6     3   \n",
       "4                   1               9   30.0         1     1   \n",
       "\n",
       "   tipo_movimentacao  salario_mensal sigla_uf   ano  mes  horas_contratuais  \n",
       "0                 10          2800.0       SP  2021    1               40.0  \n",
       "1                 10          4955.0       PR  2020    1               44.0  \n",
       "2                 10          1100.0       MG  2020    1               44.0  \n",
       "3                 10          1057.0       SP  2021    1               36.0  \n",
       "4                 10          5690.0       RS  2021    1               40.0  "
      ]
     },
     "execution_count": 20,
     "metadata": {},
     "output_type": "execute_result"
    }
   ],
   "source": [
    "#Removendo a categoria de atributos\n",
    "\n",
    "dataset_revisado = dataset_revisado.drop(columns=['cbo_2002'])\n",
    "dataset_revisado.head()"
   ]
  },
  {
   "cell_type": "code",
   "execution_count": 21,
   "id": "37e79dab-c230-450c-970e-8963aae7e8a2",
   "metadata": {},
   "outputs": [
    {
     "name": "stdout",
     "output_type": "stream",
     "text": [
      "<class 'pandas.core.frame.DataFrame'>\n",
      "Index: 990681 entries, 0 to 990704\n",
      "Data columns (total 11 columns):\n",
      " #   Column              Non-Null Count   Dtype  \n",
      "---  ------              --------------   -----  \n",
      " 0   saldo_movimentacao  990681 non-null  int64  \n",
      " 1   grau_instrucao      990681 non-null  int64  \n",
      " 2   idade               990664 non-null  float64\n",
      " 3   raca_cor            990681 non-null  int64  \n",
      " 4   sexo                990681 non-null  int64  \n",
      " 5   tipo_movimentacao   990681 non-null  int64  \n",
      " 6   salario_mensal      990630 non-null  float64\n",
      " 7   sigla_uf            990681 non-null  object \n",
      " 8   ano                 990681 non-null  int64  \n",
      " 9   mes                 990681 non-null  int64  \n",
      " 10  horas_contratuais   990681 non-null  float64\n",
      "dtypes: float64(3), int64(7), object(1)\n",
      "memory usage: 90.7+ MB\n"
     ]
    }
   ],
   "source": [
    "dataset_revisado.info()"
   ]
  },
  {
   "cell_type": "markdown",
   "id": "f042fbf2-9fd2-4775-bd19-d3f0f83cde23",
   "metadata": {},
   "source": [
    "### saldo_movimentacao"
   ]
  },
  {
   "cell_type": "code",
   "execution_count": 22,
   "id": "c6fc9e78-f4c1-4296-9689-cdc797fcc88a",
   "metadata": {},
   "outputs": [
    {
     "data": {
      "text/plain": [
       "saldo_movimentacao\n",
       " 1    552061\n",
       "-1    438620\n",
       "Name: count, dtype: int64"
      ]
     },
     "execution_count": 22,
     "metadata": {},
     "output_type": "execute_result"
    }
   ],
   "source": [
    "dataset_revisado['saldo_movimentacao'].value_counts()"
   ]
  },
  {
   "cell_type": "code",
   "execution_count": 23,
   "id": "d25edd07-3de4-4fc2-a9a7-419e9346d686",
   "metadata": {},
   "outputs": [
    {
     "data": {
      "text/plain": [
       "Text(0, 0.5, 'Quantidade')"
      ]
     },
     "execution_count": 23,
     "metadata": {},
     "output_type": "execute_result"
    },
    {
     "data": {
      "image/png": "[encoded data removed]",
      "text/plain": [
       "<Figure size 640x480 with 1 Axes>"
      ]
     },
     "metadata": {},
     "output_type": "display_data"
    }
   ],
   "source": [
    "entrada = (dataset_revisado['saldo_movimentacao'] == 1).sum()\n",
    "saida = (dataset_revisado['saldo_movimentacao']== -1).sum()\n",
    "\n",
    "categorias = ['entrada', 'saida']\n",
    "dados = [entrada, saida]\n",
    "\n",
    "plt.bar(categorias,dados)\n",
    "plt.title('Movimentação')\n",
    "plt.xlabel('Categoria')\n",
    "plt.ylabel('Quantidade')"
   ]
  },
  {
   "cell_type": "markdown",
   "id": "3fdaaed3-7ff2-412b-a3ff-87efaf266c23",
   "metadata": {},
   "source": [
    "### grau_instrucao"
   ]
  },
  {
   "cell_type": "code",
   "execution_count": 24,
   "id": "7c65d38f-6ef0-4550-9b8f-36768aae0d61",
   "metadata": {
    "scrolled": true
   },
   "outputs": [
    {
     "data": {
      "text/plain": [
       "grau_instrucao\n",
       "9     534859\n",
       "8     182416\n",
       "7     165529\n",
       "80     82246\n",
       "10     12246\n",
       "11      5277\n",
       "6       4775\n",
       "5       1965\n",
       "1        750\n",
       "4        310\n",
       "3        157\n",
       "2        151\n",
       "Name: count, dtype: int64"
      ]
     },
     "execution_count": 24,
     "metadata": {},
     "output_type": "execute_result"
    }
   ],
   "source": [
    "dataset_revisado['grau_instrucao'].value_counts()"
   ]
  },
  {
   "attachments": {},
   "cell_type": "markdown",
   "id": "daa2163e-e981-4564-8a8e-7caef8a713df",
   "metadata": {},
   "source": [
    "Observa-se uma grande quantidade de categorias, que pode ser reduzida cum um aumento da granularidade.\n",
    "\n",
    "Categoria original:\n",
    "\n",
    "1\tAnalfabeto  \n",
    "2\tAté 5ª Incompleto  \n",
    "3\t5ª Completo Fundamental  \n",
    "4\t6ª a 9ª Fundamental  \n",
    "5\tFundamental Completo  \n",
    "6\tMédio Incompleto  \n",
    "7\tMédio Completo  \n",
    "8\tSuperior Incompleto  \n",
    "9\tSuperior Completo  \n",
    "10\tMestrado  \n",
    "11\tDoutorado  \n",
    "80\tPós-Graduação completa  \n",
    "\n",
    "Redução de granularidade:  \n",
    "\n",
    "1\t-> 1 - Até o fundamental  \n",
    "2\t-> 1 - Até o fundamental  \n",
    "3\t-> 1 - Até o fundamental  \n",
    "4\t-> 1 - Até o fundamental  \n",
    "5\t-> 1 - Até o fundamental  \n",
    "6\t-> 2 - Até o Ensino Médio  \n",
    "7\t-> 2 - Até o Ensino Médio  \n",
    "8\t-> 3 - Até o Superior  \n",
    "9\t-> 3 - Até o Superior  \n",
    "10\t-> 4 - Até a Pós-Graduação  \n",
    "11\t-> 4 - Até a Pós-Graduação  \n",
    "80\t-> 4 - Até a Pós-Graduação  \n"
   ]
  },
  {
   "cell_type": "code",
   "execution_count": 25,
   "id": "3bb03cef-de62-4c0c-9b00-1f660c54f451",
   "metadata": {},
   "outputs": [],
   "source": [
    "# Mapeamento para as categorias reduzidas\n",
    "mapeamento = {\n",
    "    1: 1,\n",
    "    2: 1,\n",
    "    3: 1,\n",
    "    4: 1,\n",
    "    5: 1,\n",
    "    6: 2,\n",
    "    7: 2,\n",
    "    8: 3,\n",
    "    9: 3,\n",
    "    10: 4,\n",
    "    11: 4,\n",
    "    80: 4\n",
    "}\n",
    "\n",
    "# Substituindo os valores da coluna 'grau_instrucao' pela granularidade reduzida\n",
    "dataset_revisado[\"grau_instrucao\"] = dataset_revisado[\"grau_instrucao\"].map(mapeamento)"
   ]
  },
  {
   "cell_type": "code",
   "execution_count": 26,
   "id": "1edd04c7-ac8c-4607-befd-22bbda15a98a",
   "metadata": {},
   "outputs": [
    {
     "name": "stdout",
     "output_type": "stream",
     "text": [
      "grau_instrucao\n",
      "3    717275\n",
      "2    170304\n",
      "4     99769\n",
      "1      3333\n",
      "Name: count, dtype: int64\n"
     ]
    }
   ],
   "source": [
    "# Verificando a contagem das novas categorias\n",
    "print(dataset_revisado[\"grau_instrucao\"].value_counts())"
   ]
  },
  {
   "cell_type": "code",
   "execution_count": 27,
   "id": "b11eab2a-dead-4569-9ddc-8ddb36c05184",
   "metadata": {},
   "outputs": [
    {
     "data": {
      "text/html": [
       "<div>\n",
       "<style scoped>\n",
       "    .dataframe tbody tr th:only-of-type {\n",
       "        vertical-align: middle;\n",
       "    }\n",
       "\n",
       "    .dataframe tbody tr th {\n",
       "        vertical-align: top;\n",
       "    }\n",
       "\n",
       "    .dataframe thead th {\n",
       "        text-align: right;\n",
       "    }\n",
       "</style>\n",
       "<table border=\"1\" class=\"dataframe\">\n",
       "  <thead>\n",
       "    <tr style=\"text-align: right;\">\n",
       "      <th></th>\n",
       "      <th>saldo_movimentacao</th>\n",
       "      <th>grau_instrucao</th>\n",
       "      <th>idade</th>\n",
       "      <th>raca_cor</th>\n",
       "      <th>sexo</th>\n",
       "      <th>tipo_movimentacao</th>\n",
       "      <th>salario_mensal</th>\n",
       "      <th>sigla_uf</th>\n",
       "      <th>ano</th>\n",
       "      <th>mes</th>\n",
       "      <th>horas_contratuais</th>\n",
       "    </tr>\n",
       "  </thead>\n",
       "  <tbody>\n",
       "    <tr>\n",
       "      <th>0</th>\n",
       "      <td>1</td>\n",
       "      <td>3</td>\n",
       "      <td>24.0</td>\n",
       "      <td>1</td>\n",
       "      <td>1</td>\n",
       "      <td>10</td>\n",
       "      <td>2800.0</td>\n",
       "      <td>SP</td>\n",
       "      <td>2021</td>\n",
       "      <td>1</td>\n",
       "      <td>40.0</td>\n",
       "    </tr>\n",
       "    <tr>\n",
       "      <th>1</th>\n",
       "      <td>1</td>\n",
       "      <td>3</td>\n",
       "      <td>22.0</td>\n",
       "      <td>1</td>\n",
       "      <td>1</td>\n",
       "      <td>10</td>\n",
       "      <td>4955.0</td>\n",
       "      <td>PR</td>\n",
       "      <td>2020</td>\n",
       "      <td>1</td>\n",
       "      <td>44.0</td>\n",
       "    </tr>\n",
       "    <tr>\n",
       "      <th>2</th>\n",
       "      <td>1</td>\n",
       "      <td>2</td>\n",
       "      <td>22.0</td>\n",
       "      <td>3</td>\n",
       "      <td>1</td>\n",
       "      <td>10</td>\n",
       "      <td>1100.0</td>\n",
       "      <td>MG</td>\n",
       "      <td>2020</td>\n",
       "      <td>1</td>\n",
       "      <td>44.0</td>\n",
       "    </tr>\n",
       "    <tr>\n",
       "      <th>3</th>\n",
       "      <td>1</td>\n",
       "      <td>2</td>\n",
       "      <td>18.0</td>\n",
       "      <td>6</td>\n",
       "      <td>3</td>\n",
       "      <td>10</td>\n",
       "      <td>1057.0</td>\n",
       "      <td>SP</td>\n",
       "      <td>2021</td>\n",
       "      <td>1</td>\n",
       "      <td>36.0</td>\n",
       "    </tr>\n",
       "    <tr>\n",
       "      <th>4</th>\n",
       "      <td>1</td>\n",
       "      <td>3</td>\n",
       "      <td>30.0</td>\n",
       "      <td>1</td>\n",
       "      <td>1</td>\n",
       "      <td>10</td>\n",
       "      <td>5690.0</td>\n",
       "      <td>RS</td>\n",
       "      <td>2021</td>\n",
       "      <td>1</td>\n",
       "      <td>40.0</td>\n",
       "    </tr>\n",
       "  </tbody>\n",
       "</table>\n",
       "</div>"
      ],
      "text/plain": [
       "   saldo_movimentacao  grau_instrucao  idade  raca_cor  sexo  \\\n",
       "0                   1               3   24.0         1     1   \n",
       "1                   1               3   22.0         1     1   \n",
       "2                   1               2   22.0         3     1   \n",
       "3                   1               2   18.0         6     3   \n",
       "4                   1               3   30.0         1     1   \n",
       "\n",
       "   tipo_movimentacao  salario_mensal sigla_uf   ano  mes  horas_contratuais  \n",
       "0                 10          2800.0       SP  2021    1               40.0  \n",
       "1                 10          4955.0       PR  2020    1               44.0  \n",
       "2                 10          1100.0       MG  2020    1               44.0  \n",
       "3                 10          1057.0       SP  2021    1               36.0  \n",
       "4                 10          5690.0       RS  2021    1               40.0  "
      ]
     },
     "execution_count": 27,
     "metadata": {},
     "output_type": "execute_result"
    }
   ],
   "source": [
    "dataset_revisado.head()"
   ]
  },
  {
   "cell_type": "markdown",
   "id": "e71745b4-34a7-48f7-b456-dd474437bed8",
   "metadata": {},
   "source": [
    "### idade"
   ]
  },
  {
   "cell_type": "code",
   "execution_count": 28,
   "id": "d101391f-727d-459f-8311-380492a5008a",
   "metadata": {},
   "outputs": [
    {
     "data": {
      "text/plain": [
       "idade\n",
       "26.0    52728\n",
       "25.0    52068\n",
       "27.0    51481\n",
       "28.0    50501\n",
       "24.0    48735\n",
       "        ...  \n",
       "15.0        4\n",
       "79.0        4\n",
       "82.0        2\n",
       "81.0        1\n",
       "86.0        1\n",
       "Name: count, Length: 69, dtype: int64"
      ]
     },
     "execution_count": 28,
     "metadata": {},
     "output_type": "execute_result"
    }
   ],
   "source": [
    "dataset_revisado['idade'].value_counts()"
   ]
  },
  {
   "cell_type": "code",
   "execution_count": 30,
   "id": "6640fcfd-6ba0-497f-81ad-1c5b09dbdee4",
   "metadata": {},
   "outputs": [
    {
     "data": {
      "text/plain": [
       "np.float64(15.0)"
      ]
     },
     "execution_count": 30,
     "metadata": {},
     "output_type": "execute_result"
    }
   ],
   "source": [
    "dataset_revisado['idade'].min()"
   ]
  },
  {
   "cell_type": "code",
   "execution_count": 31,
   "id": "dbd078ae-3fa4-450d-ba4b-5903a65a466f",
   "metadata": {},
   "outputs": [
    {
     "data": {
      "text/plain": [
       "np.float64(86.0)"
      ]
     },
     "execution_count": 31,
     "metadata": {},
     "output_type": "execute_result"
    }
   ],
   "source": [
    "dataset_revisado['idade'].max()"
   ]
  },
  {
   "cell_type": "code",
   "execution_count": 32,
   "id": "e774a76d-4575-4ca8-84b2-b2c1c8deb40c",
   "metadata": {},
   "outputs": [
    {
     "data": {
      "image/png": "[encoded data removed]",
      "text/plain": [
       "<Figure size 1600x600 with 1 Axes>"
      ]
     },
     "metadata": {},
     "output_type": "display_data"
    }
   ],
   "source": [
    "import pandas as pd\n",
    "import matplotlib.pyplot as plt\n",
    "import seaborn as sns\n",
    "\n",
    "# Criando intervalos de idade\n",
    "bins = range(15, 91, 5)  # Intervalos de 5 anos, de 15 a 85\n",
    "labels = [f\"{i}-{i+4}\" for i in bins[:-1]]  # Rótulos como '15-20', '21-25', etc.\n",
    "dataset_revisado['faixa_etaria'] = pd.cut(dataset_revisado['idade'], bins=bins, labels=labels, right=False)\n",
    "\n",
    "# Contando a frequência de cada faixa etária\n",
    "faixa_counts = dataset_revisado['faixa_etaria'].value_counts().sort_index()\n",
    "\n",
    "# Criando o gráfico de barras\n",
    "plt.figure(figsize=(16, 6))\n",
    "sns.barplot(x=faixa_counts.index, y=faixa_counts.values, color='blue', alpha=0.7)\n",
    "\n",
    "# Adicionando títulos e rótulos\n",
    "plt.title('Distribuição das Idades por Faixa Etária', fontsize=14)\n",
    "plt.xlabel('Faixa Etária', fontsize=12)\n",
    "plt.ylabel('Frequência', fontsize=12)\n",
    "plt.xticks(rotation=45)  # Rotacionando os rótulos do eixo X para maior legibilidade\n",
    "plt.grid(True, linestyle='--', alpha=0.6)\n",
    "\n",
    "# Exibindo o gráfico\n",
    "plt.show()\n"
   ]
  },
  {
   "cell_type": "markdown",
   "id": "65489741-aad3-43c9-8b57-2f760179163a",
   "metadata": {},
   "source": [
    "Criei o gráfico para analizar se o agrupamento de 5 em 5 anos seria eficiente, no entanto, observa-se que o número de categorias ainda seria expressivos"
   ]
  },
  {
   "cell_type": "code",
   "execution_count": 33,
   "id": "0ac7b46a-c4eb-484c-9812-f564bc5a5354",
   "metadata": {},
   "outputs": [
    {
     "data": {
      "image/png": "[encoded data removed]",
      "text/plain": [
       "<Figure size 1600x600 with 1 Axes>"
      ]
     },
     "metadata": {},
     "output_type": "display_data"
    }
   ],
   "source": [
    "import pandas as pd\n",
    "import matplotlib.pyplot as plt\n",
    "import seaborn as sns\n",
    "\n",
    "# Criando intervalos de idade\n",
    "bins = range(15, 100, 10)  # Intervalos de 5 anos, de 15 a 85\n",
    "labels = [f\"{i}-{i+9}\" for i in bins[:-1]]  # Rótulos como '15-20', '21-25', etc.\n",
    "dataset_revisado['faixa_etaria'] = pd.cut(dataset_revisado['idade'], bins=bins, labels=labels, right=False)\n",
    "\n",
    "# Contando a frequência de cada faixa etária\n",
    "faixa_counts = dataset_revisado['faixa_etaria'].value_counts().sort_index()\n",
    "\n",
    "# Criando o gráfico de barras\n",
    "plt.figure(figsize=(16, 6))\n",
    "sns.barplot(x=faixa_counts.index, y=faixa_counts.values, color='blue', alpha=0.7)\n",
    "\n",
    "# Adicionando títulos e rótulos\n",
    "plt.title('Distribuição das Idades por Faixa Etária', fontsize=14)\n",
    "plt.xlabel('Faixa Etária', fontsize=12)\n",
    "plt.ylabel('Frequência', fontsize=12)\n",
    "plt.xticks(rotation=45)  # Rotacionando os rótulos do eixo X para maior legibilidade\n",
    "plt.grid(True, linestyle='--', alpha=0.6)\n",
    "\n",
    "# Exibindo o gráfico\n",
    "plt.show()\n"
   ]
  },
  {
   "cell_type": "markdown",
   "id": "f5c25ed5-672d-4b7a-8f4a-9d800d784a9b",
   "metadata": {},
   "source": [
    "Observando as distribuições, decidi reduzir a granuladirade deste atributo utilizando as seguintes categorias:\n",
    "\n",
    "1 - 15 a 17 anos: Fase de ingresso no mercado de trabalho.  \n",
    "2 - 18 a 24 anos: Faixa etária jovem adulta, começando a consolidar sua carreira.  \n",
    "3 - 25 a 39 anos: Faixa etária adulta jovem, com maior estabilidade no mercado de trabalho.  \n",
    "4 - 40 a 59 anos: Faixa etária adulta média, geralmente com mais experiência e estabilidade.  \n",
    "5 - 60 anos ou mais: Faixa etária de aposentadoria e possíveis desafios para reintegração no mercado de trabalho."
   ]
  },
  {
   "cell_type": "code",
   "execution_count": 34,
   "id": "39aebdef-f2fd-41d1-8b5a-e3d4687e7460",
   "metadata": {},
   "outputs": [
    {
     "name": "stdout",
     "output_type": "stream",
     "text": [
      "idade\n",
      "3    615915\n",
      "2    197988\n",
      "4    166945\n",
      "5      8358\n",
      "1      1454\n",
      "Name: count, dtype: int64\n"
     ]
    }
   ],
   "source": [
    "import pandas as pd\n",
    "\n",
    "# Definindo os intervalos de idade e as regras de substituição\n",
    "bins = [15, 17, 24, 39, 59, float('inf')]  # Intervalos: 15-17, 18-24, 25-39, 40-59, 60+\n",
    "labels = [1, 2, 3, 4, 5]  # Correspondente a 1, 2, 3, 4, 5\n",
    "\n",
    "# Substituindo os valores de idade com base nos intervalos\n",
    "dataset_revisado['idade'] = pd.cut(dataset_revisado['idade'], bins=bins, labels=labels, right=True)\n",
    "\n",
    "# Exibindo o resultado\n",
    "print(dataset_revisado['idade'].value_counts())\n"
   ]
  },
  {
   "cell_type": "code",
   "execution_count": null,
   "id": "9d50fc93-e0de-440c-9fcf-f10b15c09aa7",
   "metadata": {},
   "outputs": [],
   "source": [
    "Print(\"erro'"
   ]
  },
  {
   "cell_type": "code",
   "execution_count": null,
   "id": "1fbd7e50-21cf-4d12-9242-ef3a8baa4a4f",
   "metadata": {},
   "outputs": [],
   "source": []
  },
  {
   "cell_type": "code",
   "execution_count": null,
   "id": "3b851766-d3ed-482b-97da-a44e84aa964b",
   "metadata": {},
   "outputs": [],
   "source": []
  },
  {
   "cell_type": "code",
   "execution_count": null,
   "id": "15d27a2f-c736-4075-b15c-dd96571860d8",
   "metadata": {},
   "outputs": [],
   "source": []
  },
  {
   "cell_type": "code",
   "execution_count": null,
   "id": "c9f7a2e2-fe5b-4240-9967-a20de5b86566",
   "metadata": {},
   "outputs": [],
   "source": []
  },
  {
   "cell_type": "code",
   "execution_count": null,
   "id": "18661f99-0a8b-4f3a-9fa3-6beea622383c",
   "metadata": {},
   "outputs": [],
   "source": []
  },
  {
   "cell_type": "code",
   "execution_count": null,
   "id": "6a440e6f-d0a0-49a6-81a1-79c80b1f34cd",
   "metadata": {},
   "outputs": [],
   "source": []
  },
  {
   "cell_type": "code",
   "execution_count": null,
   "id": "24ec3f4f",
   "metadata": {},
   "outputs": [],
   "source": [
    "ctg = dataset_org['ano'].value_counts()\n",
    "ctg"
   ]
  },
  {
   "cell_type": "code",
   "execution_count": null,
   "id": "4a86a512",
   "metadata": {},
   "outputs": [],
   "source": [
    "# vendo quais são os valores da coluna mes\n",
    "valores_unicos = dataset_orig['mes'].unique()\n",
    "print(valores_unicos)"
   ]
  },
  {
   "cell_type": "code",
   "execution_count": null,
   "id": "2d4612d5",
   "metadata": {},
   "outputs": [],
   "source": [
    "#quais são os valores da coluna ano\n",
    "valores_unicos = dataset_orig['ano'].unique()\n",
    "print(valores_unicos)"
   ]
  },
  {
   "cell_type": "code",
   "execution_count": null,
   "id": "5dd51df4",
   "metadata": {},
   "outputs": [],
   "source": [
    "# Unindo os valores das duas colunas no formato aa-mm, porém ainda como string\n",
    "dados['data'] = dados['mes'].astype(str).str.zfill(2) + '-' + dados['ano'].astype(str)\n",
    "\n",
    "valores_unicos = dados['data'].unique()\n",
    "print(valores_unicos)"
   ]
  },
  {
   "cell_type": "code",
   "execution_count": null,
   "id": "1fb0938e",
   "metadata": {},
   "outputs": [],
   "source": [
    "dados.head()"
   ]
  },
  {
   "cell_type": "markdown",
   "id": "19f4967d",
   "metadata": {},
   "source": [
    "2) Remover colunas que não são relevantes na análise"
   ]
  },
  {
   "cell_type": "code",
   "execution_count": null,
   "id": "8e8b2abd",
   "metadata": {},
   "outputs": [],
   "source": [
    "#deixei a coluna ano apenas com os últimos dois dígitos\n",
    "dados['ano'] = dados['ano'].astype(str).str[-2:]\n",
    "\n",
    "valores_unicos = dados['ano'].unique()\n",
    "print(valores_unicos)"
   ]
  },
  {
   "cell_type": "code",
   "execution_count": null,
   "id": "ea993005",
   "metadata": {},
   "outputs": [],
   "source": [
    "# Remover a coluna ano e mes\n",
    "dados = dados.drop('ano', axis=1)\n",
    "dados = dados.drop('mes', axis=1)"
   ]
  },
  {
   "cell_type": "code",
   "execution_count": null,
   "id": "dfff4505",
   "metadata": {},
   "outputs": [],
   "source": [
    "dados.head()"
   ]
  },
  {
   "cell_type": "code",
   "execution_count": null,
   "id": "25bd53c6",
   "metadata": {},
   "outputs": [],
   "source": [
    "# Remover as colunas 'coluna2' e 'coluna4' diretamente no DataFrame original\n",
    "dados.drop(['id_municipio', 'cnae_2_subclasse', 'origem_informacao', 'indicador_fora_prazo'], axis=1, inplace=True)"
   ]
  },
  {
   "cell_type": "code",
   "execution_count": null,
   "id": "5c1a9adb",
   "metadata": {},
   "outputs": [],
   "source": [
    "dados.head()"
   ]
  },
  {
   "cell_type": "markdown",
   "id": "3fcf47cd",
   "metadata": {},
   "source": [
    "3) Analisar coluna cbo_2002:"
   ]
  },
  {
   "cell_type": "code",
   "execution_count": null,
   "id": "29ab3e25",
   "metadata": {},
   "outputs": [],
   "source": [
    "#Reduzir o grau de detalhamento aos quatro primeiros dígitos\n",
    "dados['cbo_2002'] = dados['cbo_2002'].astype(str).str[:4]"
   ]
  },
  {
   "cell_type": "code",
   "execution_count": null,
   "id": "81abc802",
   "metadata": {},
   "outputs": [],
   "source": [
    "dados['cbo_2002'] = dados['cbo_2002'].astype('Int64')"
   ]
  },
  {
   "cell_type": "code",
   "execution_count": null,
   "id": "227de5c5",
   "metadata": {},
   "outputs": [],
   "source": [
    "print(dados['cbo_2002'].dtype)"
   ]
  },
  {
   "cell_type": "code",
   "execution_count": null,
   "id": "cee31068",
   "metadata": {},
   "outputs": [],
   "source": [
    "valores_unicos = dados['cbo_2002'].unique()\n",
    "print(valores_unicos)"
   ]
  },
  {
   "cell_type": "code",
   "execution_count": null,
   "id": "6b85b0bc",
   "metadata": {},
   "outputs": [],
   "source": [
    "#os valores 2121 e 2120 não são correspondentes a este atributo, pois não há categorias relacionadas e podem ser registros errados.\n",
    "dados_cbo2002 = dados[(dados['cbo_2002'] == 2121) | (dados['cbo_2002'] == 2120)]\n",
    "dados_cbo2002"
   ]
  },
  {
   "cell_type": "code",
   "execution_count": null,
   "id": "77b9e21f",
   "metadata": {},
   "outputs": [],
   "source": [
    "dados = dados.drop(dados_cbo2002.index)"
   ]
  },
  {
   "cell_type": "markdown",
   "id": "8c2c84a6",
   "metadata": {},
   "source": [
    "4) Analisando a coluna categoria:"
   ]
  },
  {
   "cell_type": "code",
   "execution_count": null,
   "id": "878a71ee",
   "metadata": {},
   "outputs": [],
   "source": [
    "valores_unicos = dados['categoria'].unique()\n",
    "print(valores_unicos)"
   ]
  },
  {
   "cell_type": "code",
   "execution_count": null,
   "id": "3d067f71",
   "metadata": {},
   "outputs": [],
   "source": [
    "dados_categoria = dados[dados['categoria'] == 102]\n",
    "dados_categoria"
   ]
  },
  {
   "cell_type": "code",
   "execution_count": null,
   "id": "d2489839",
   "metadata": {},
   "outputs": [],
   "source": [
    "# Escolhi remover o registro retornado pela categoria 102, pois representa uma inconsistência\n",
    "dados.drop(dados[dados['categoria'] == 102].index, inplace=True)"
   ]
  },
  {
   "cell_type": "code",
   "execution_count": null,
   "id": "2199b2d3",
   "metadata": {},
   "outputs": [],
   "source": [
    "dados"
   ]
  },
  {
   "cell_type": "code",
   "execution_count": null,
   "id": "7113e857",
   "metadata": {},
   "outputs": [],
   "source": [
    "dados_categoria = dados[dados['categoria'] == 999]\n",
    "dados_categoria"
   ]
  },
  {
   "cell_type": "code",
   "execution_count": null,
   "id": "f73ed0e5",
   "metadata": {},
   "outputs": [],
   "source": [
    "dados_categoria = dados[dados['categoria'] == 101]\n",
    "dados_categoria"
   ]
  },
  {
   "cell_type": "code",
   "execution_count": null,
   "id": "4e992966",
   "metadata": {},
   "outputs": [],
   "source": [
    "dados_categoria_102 = dados[dados['categoria'] == 103]\n",
    "dados_categoria_102"
   ]
  },
  {
   "cell_type": "code",
   "execution_count": null,
   "id": "b0b20cd6",
   "metadata": {},
   "outputs": [],
   "source": []
  },
  {
   "cell_type": "code",
   "execution_count": null,
   "id": "053ca1d5",
   "metadata": {},
   "outputs": [],
   "source": []
  }
 ],
 "metadata": {
  "kernelspec": {
   "display_name": "Python 3 (ipykernel)",
   "language": "python",
   "name": "python3"
  },
  "language_info": {
   "codemirror_mode": {
    "name": "ipython",
    "version": 3
   },
   "file_extension": ".py",
   "mimetype": "text/x-python",
   "name": "python",
   "nbconvert_exporter": "python",
   "pygments_lexer": "ipython3",
   "version": "3.13.1"
  }
 },
 "nbformat": 4,
 "nbformat_minor": 5
}
